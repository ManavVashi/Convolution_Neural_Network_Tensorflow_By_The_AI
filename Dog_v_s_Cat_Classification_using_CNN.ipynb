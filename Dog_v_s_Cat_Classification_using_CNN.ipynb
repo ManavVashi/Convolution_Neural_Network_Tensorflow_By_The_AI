{
  "nbformat": 4,
  "nbformat_minor": 0,
  "metadata": {
    "colab": {
      "provenance": [],
      "gpuType": "T4"
    },
    "kernelspec": {
      "name": "python3",
      "display_name": "Python 3"
    },
    "language_info": {
      "name": "python"
    },
    "accelerator": "GPU"
  },
  "cells": [
    {
      "cell_type": "code",
      "source": [
        "!mkdir -p ~/.kaggle\n",
        "!cp kaggle.json ~/.kaggle/"
      ],
      "metadata": {
        "colab": {
          "base_uri": "https://localhost:8080/"
        },
        "id": "EAN5NjZE3LU-",
        "outputId": "14a314b1-338b-4623-80c2-88a6dbbbfbcf"
      },
      "execution_count": 1,
      "outputs": [
        {
          "output_type": "stream",
          "name": "stdout",
          "text": [
            "cp: cannot stat 'kaggle.json': No such file or directory\n"
          ]
        }
      ]
    },
    {
      "cell_type": "code",
      "execution_count": 2,
      "metadata": {
        "colab": {
          "base_uri": "https://localhost:8080/"
        },
        "id": "_aywO5Ya00da",
        "outputId": "00dbd1e5-4284-4f07-f8d6-2636b1b1e2e0"
      },
      "outputs": [
        {
          "output_type": "stream",
          "name": "stdout",
          "text": [
            "Dataset URL: https://www.kaggle.com/datasets/salader/dogs-vs-cats\n",
            "License(s): unknown\n",
            "Downloading dogs-vs-cats.zip to /content\n",
            "100% 1.06G/1.06G [00:49<00:00, 23.6MB/s]\n",
            "100% 1.06G/1.06G [00:49<00:00, 23.1MB/s]\n"
          ]
        }
      ],
      "source": [
        "!kaggle datasets download -d salader/dogs-vs-cats\n",
        "\n",
        "#API Command\n",
        "#Dataset->3 dots ->Copy API Command option"
      ]
    },
    {
      "cell_type": "code",
      "source": [
        "import zipfile\n",
        "zip_ref = zipfile.ZipFile('/content/dogs-vs-cats.zip', 'r')\n",
        "zip_ref.extractall('/content')\n",
        "zip_ref.close()\n",
        "\n",
        "#unzip zip file"
      ],
      "metadata": {
        "id": "ub6g9YxX3iTL"
      },
      "execution_count": 3,
      "outputs": []
    },
    {
      "cell_type": "markdown",
      "source": [
        "\n",
        "\n",
        "*   Above code is to import kaggle dataset to colab without downloading it.\n",
        "*   link of dataset: https://www.kaggle.com/datasets/salader/dogs-vs-cats\n",
        "\n"
      ],
      "metadata": {
        "id": "gl-bEKTJERTh"
      }
    },
    {
      "cell_type": "code",
      "source": [
        "import tensorflow\n",
        "from tensorflow import keras\n",
        "\n",
        "#importing tensorflow fram work and it's library keras"
      ],
      "metadata": {
        "id": "OlaDFMka48wB"
      },
      "execution_count": 4,
      "outputs": []
    },
    {
      "cell_type": "code",
      "source": [
        "from keras.preprocessing.image import ImageDataGenerator\n",
        "train_valid_test_generate=ImageDataGenerator(rescale=1/255.0,\n",
        "                             validation_split=0.2)\n",
        "\n",
        "\n",
        "#code for normalizing image\n",
        "# validation_split perameter is to set validation data size form training data\n",
        "#in our case it is 20% of training data\n",
        "# we devide by 255.0 why??"
      ],
      "metadata": {
        "id": "nPVRhoyMD-Tb"
      },
      "execution_count": 5,
      "outputs": []
    },
    {
      "cell_type": "markdown",
      "source": [
        "* as all the colors are covered between 0 to 255 like 0 for black and 1 for white like wise\n",
        "* we devide by 255.0 not by 255 as all the pixel value are the float value like 0.,1.,2. like wise and we know likes devieds like\n"
      ],
      "metadata": {
        "id": "to2jsc-YHjvv"
      }
    },
    {
      "cell_type": "code",
      "source": [
        "train_set=train_valid_test_generate.flow_from_directory(directory=\"/content/train\",\n",
        "                                                      class_mode='binary',\n",
        "                                                      color_mode='rgb',\n",
        "                                                      batch_size=32,\n",
        "                                                      target_size=(256,256),\n",
        "                                                      subset='training',\n",
        "                                                      shuffle=False)\n",
        "\n",
        "validation_set=train_valid_test_generate.flow_from_directory(directory=\"/content/train\",\n",
        "                                                            class_mode='binary',\n",
        "                                                            color_mode='rgb',\n",
        "                                                            batch_size=32,\n",
        "                                                            target_size=(256,256),\n",
        "                                                            subset='validation',\n",
        "                                                            shuffle=False)\n",
        "\n",
        "test_set=train_valid_test_generate.flow_from_directory(directory=\"/content/test\",\n",
        "                                                       class_mode='binary',\n",
        "                                                       color_mode='rgb',\n",
        "                                                       target_size=(256,256),\n",
        "                                                       )\n",
        "\n",
        "#here we apply some preprocessing of data\n"
      ],
      "metadata": {
        "colab": {
          "base_uri": "https://localhost:8080/"
        },
        "id": "InAPZvmfcCJj",
        "outputId": "ab86467d-de2a-45dd-a523-2507a9561efa"
      },
      "execution_count": 8,
      "outputs": [
        {
          "output_type": "stream",
          "name": "stdout",
          "text": [
            "Found 16000 images belonging to 2 classes.\n",
            "Found 4000 images belonging to 2 classes.\n",
            "Found 5000 images belonging to 2 classes.\n"
          ]
        }
      ]
    },
    {
      "cell_type": "markdown",
      "source": [
        "\n",
        "\n",
        "1.   directory: path of of your test/validation/test data\n",
        "2.   class_mode: how many classes are there binart/categorical/input\n",
        "*    in case of 2 class it is binary,\n",
        "*    in case of more then 2 classes categorical\n",
        "*    in case of Autoencoder when input and output image are same then input\n",
        "3.   color_mode\": image is rgb or grayscale\n",
        "*    rgb: colourful image\n",
        "*    grayscale: black and white image\n",
        "4.   target size: image are converted into (x,y) to (x_new,y_new)\n",
        "*    in case of non equivalent image size\n",
        "5.   subset: validation/training\n",
        "*    if training then 20%(validation_split) of training data redused for validation data and 80% of data stored in train_set variable\n",
        "*    if validation then 20% of data stord in validation_set variable\n",
        "6.   shuffle: True/False\n",
        "*    if True then data is shuffuled and if False then data splitted in alphabatical orderwise\n",
        "\n",
        "\n"
      ],
      "metadata": {
        "id": "M-U5963ML0_q"
      }
    },
    {
      "cell_type": "code",
      "source": [
        "print(train_set)\n",
        "print(validation_set)\n",
        "print(test_set)"
      ],
      "metadata": {
        "colab": {
          "base_uri": "https://localhost:8080/"
        },
        "id": "qYE6dtID94T2",
        "outputId": "eeacddad-f381-4c5b-e464-94d282dad596"
      },
      "execution_count": 9,
      "outputs": [
        {
          "output_type": "stream",
          "name": "stdout",
          "text": [
            "<keras.src.preprocessing.image.DirectoryIterator object at 0x7f3d954683d0>\n",
            "<keras.src.preprocessing.image.DirectoryIterator object at 0x7f3e2686c1c0>\n",
            "<keras.src.preprocessing.image.DirectoryIterator object at 0x7f3d95624f40>\n"
          ]
        }
      ]
    },
    {
      "cell_type": "code",
      "source": [
        "from keras import Sequential\n",
        "from keras.layers import Conv2D,MaxPooling2D,Dense,Flatten\n",
        "\n",
        "#importing Sequential class as we want to make Sequential model\n",
        "#importing layer which we are going to use"
      ],
      "metadata": {
        "id": "oqJZkTx0B_mR"
      },
      "execution_count": 10,
      "outputs": []
    },
    {
      "cell_type": "markdown",
      "source": [
        "\n",
        "\n",
        "1.   Conv2D: Convolution Layer\n",
        "2.   MaxPooling2D: Max pooling layer\n",
        "3.   Flatten: to convert 3D image into 1D image\n",
        "4.   Dens: Fully Connected Layer(ANN)"
      ],
      "metadata": {
        "id": "eGOIJRU8TjuN"
      }
    },
    {
      "cell_type": "code",
      "source": [
        "model = Sequential()\n",
        "\n",
        "model.add(Conv2D(16,kernel_size=(3,3),padding='same',strides=1,activation='relu',input_shape=(256,256,3)))\n",
        "model.add(MaxPooling2D(pool_size=(2,2),strides=1,padding='valid'))\n",
        "\n",
        "model.add(Conv2D(32,kernel_size=(3,3),padding='same',strides=1,activation='relu'))\n",
        "model.add(MaxPooling2D(pool_size=(2,2),strides=1,padding='valid'))\n",
        "\n",
        "model.add(Conv2D(64,kernel_size=(3,3),padding='same',strides=1,activation='relu'))\n",
        "model.add(MaxPooling2D(pool_size=(2,2),strides=1,padding='valid'))\n",
        "\n",
        "model.add(Flatten())\n",
        "\n",
        "model.add(Dense(16,activation='relu'))\n",
        "model.add(Dense(8,activation='relu'))\n",
        "model.add(Dense(4,activation='relu'))\n",
        "model.add(Dense(2,activation='relu'))\n",
        "model.add(Dense(1,activation='sigmoid'))\n",
        "\n",
        "\n",
        "#model architecture"
      ],
      "metadata": {
        "id": "gOhm6IfYCEId"
      },
      "execution_count": 11,
      "outputs": []
    },
    {
      "cell_type": "markdown",
      "source": [
        "1. model.add(): to add layer\n",
        "2. 16,32,64 are the number of filters/no of nodes/neurons\n",
        "*  advisable in power of 2 and and in decreasing order\n",
        "*  power of 2 because to reduce computational cost\n",
        "3. kernel size: size of the filter ->any size\n",
        "4. padding: valid/same\n",
        "*  \"image size remain same\"\n",
        "*  want to appy padding then use same otherwise valid\n",
        "5. strides: no of jumps on pixels while sliding the filter(convolution filter and padding filter/matrix(2,2))\n",
        "*  if 1 then one i pixel jump, if 2 then 2 pixel jump\n",
        "*  those jumps are vertical as well horizontal in both the direction\n",
        "6. activation: which activation function we want to use relu/sigmoid/tanh etc...\n",
        "7. Flatten() means conveting 3D metrics into 1D\n",
        "8. Dense means a Fully Connected Layer\n",
        "9. in that 16,8,4,2,1 are the no of nodes\n",
        "*  as it is binary classification problem and we use sigmoid function so in last layer no of node has to be 1\n",
        "*  it is advisable thet nodes in Dense layer are in decreasing order and in the power of 2\n"
      ],
      "metadata": {
        "id": "w-HNs-1IURGD"
      }
    },
    {
      "cell_type": "code",
      "source": [
        "model.summary()"
      ],
      "metadata": {
        "colab": {
          "base_uri": "https://localhost:8080/"
        },
        "id": "W8970fH6s0CN",
        "outputId": "b21ce1c6-3851-4dd1-b355-69d875f2d47f"
      },
      "execution_count": 12,
      "outputs": [
        {
          "output_type": "stream",
          "name": "stdout",
          "text": [
            "Model: \"sequential\"\n",
            "_________________________________________________________________\n",
            " Layer (type)                Output Shape              Param #   \n",
            "=================================================================\n",
            " conv2d (Conv2D)             (None, 256, 256, 16)      448       \n",
            "                                                                 \n",
            " max_pooling2d (MaxPooling2  (None, 255, 255, 16)      0         \n",
            " D)                                                              \n",
            "                                                                 \n",
            " conv2d_1 (Conv2D)           (None, 255, 255, 32)      4640      \n",
            "                                                                 \n",
            " max_pooling2d_1 (MaxPoolin  (None, 254, 254, 32)      0         \n",
            " g2D)                                                            \n",
            "                                                                 \n",
            " conv2d_2 (Conv2D)           (None, 254, 254, 64)      18496     \n",
            "                                                                 \n",
            " max_pooling2d_2 (MaxPoolin  (None, 253, 253, 64)      0         \n",
            " g2D)                                                            \n",
            "                                                                 \n",
            " flatten (Flatten)           (None, 4096576)           0         \n",
            "                                                                 \n",
            " dense (Dense)               (None, 16)                65545232  \n",
            "                                                                 \n",
            " dense_1 (Dense)             (None, 8)                 136       \n",
            "                                                                 \n",
            " dense_2 (Dense)             (None, 4)                 36        \n",
            "                                                                 \n",
            " dense_3 (Dense)             (None, 2)                 10        \n",
            "                                                                 \n",
            " dense_4 (Dense)             (None, 1)                 3         \n",
            "                                                                 \n",
            "=================================================================\n",
            "Total params: 65569001 (250.13 MB)\n",
            "Trainable params: 65569001 (250.13 MB)\n",
            "Non-trainable params: 0 (0.00 Byte)\n",
            "_________________________________________________________________\n"
          ]
        }
      ]
    },
    {
      "cell_type": "markdown",
      "source": [
        "* Trainable perameter calculation:\n",
        "\n",
        "1. convolution layer 0\n",
        "* (16 * 3 * 9)+16 = 432 + 16 = 448\n",
        "* **(no of filter/nodes at currunt layer * no of nodes at previous layer * kerne/filter size )+ no of filter**\n",
        "* 16 = No of filter/node at currut layer\n",
        "* 3 =  No of filter/node at currunt layer or **if not exist** then for rgb it is 3 and for grayscale it is 1 **only for first layer**\n",
        "* **as first layer do not have no of nodes at previous layer**\n",
        "\n",
        "\n",
        "2. convolution layer 1\n",
        "* no of filter/nodes at currunt layer= 32\n",
        "* no of filter/nodes at previous layer= 16\n",
        "* kernel/filter size= 3*3 = 9\n",
        "* **trainable perameters= (32 * 16 * 9) + 32 = 4640**\n",
        "\n",
        "3. convolution layer 2\n",
        "* no of nodes/filter at layer 2 = 64\n",
        "* no of nodes/filte at layer 1 = 32\n",
        "* kernel/filter size = 9\n",
        "\n",
        "* **(64 * 32 * 9) + 64 = *18496*\n",
        "\n",
        "# for dense layer formula little bit change:-\n",
        "* **You know that,**\n",
        "* after flatten each pixel value of metrix go individually in a neural network as a single input, so we can say that **no at nodes of previous layer** as each pixel treated as node.\n",
        "* **Trainable perameter = no of nodes at previous layer * no at nodes of currunt layer + no at nodes of currunt layer**\n",
        "\n",
        "1. Dense layer 0\n",
        "* no of nodes at previous layer = 253 * 253 * 64 = 4096576 (as last layer is  max_pooling2d_2)\n",
        "* no of nodes at currunt layer = 16\n",
        "* **Trainable perameters =  4096576 * 16 + 16 =  65545232**\n",
        "\n",
        "2. Dense layer 1\n",
        "* no of nodes at previous layer = 16\n",
        "* no of nodes at currunt layer = 8\n",
        "* **Trainable perameters =  16 * 8 + 8 =  136**\n",
        "\n",
        "3. Dense layer 2\n",
        "* no of nodes at previous layer = 8\n",
        "* no of nodes at currunt layer = 4\n",
        "* **Trainable perameters =  8 * 4 + 4 =  36**\n",
        "\n"
      ],
      "metadata": {
        "id": "0gLFJu-5iAtt"
      }
    },
    {
      "cell_type": "markdown",
      "source": [
        "# How this metrics shape are calculated??, for that you have to understood theory of\n",
        "1. Convolution Layer\n",
        "2. Theory of padding\n",
        "3. Theory of strides\n",
        "4. Theory of pooling"
      ],
      "metadata": {
        "id": "LL9lrLxNubc1"
      }
    },
    {
      "cell_type": "code",
      "source": [
        "model.compile(optimizer='Adam',loss='binary_crossentropy',metrics=['accuracy'])\n",
        "\n",
        "#here in compile function I give optimizer= Adam\n",
        "#as it is binary classification problem I use loss \"binary_crossentropy\"\n",
        "#metrics=['accuracy'] as I want to see accuracy while training"
      ],
      "metadata": {
        "id": "g9SsKRaSs591"
      },
      "execution_count": 13,
      "outputs": []
    },
    {
      "cell_type": "code",
      "source": [
        "history=model.fit(train_set,epochs=7,validation_data=validation_set)\n",
        "\n",
        "#model training\n",
        "#we have to pass train data,no of epochs and validation data in the fit function\n",
        "#significant of validation data is to test model while training"
      ],
      "metadata": {
        "colab": {
          "base_uri": "https://localhost:8080/"
        },
        "id": "y1sJiuX5tRgD",
        "outputId": "dda2d30b-22f6-4eaf-ae92-eecdb58dc654"
      },
      "execution_count": 14,
      "outputs": [
        {
          "output_type": "stream",
          "name": "stdout",
          "text": [
            "Epoch 1/7\n",
            "500/500 [==============================] - 134s 244ms/step - loss: 0.7288 - accuracy: 0.5001 - val_loss: 0.6932 - val_accuracy: 0.5000\n",
            "Epoch 2/7\n",
            "500/500 [==============================] - 111s 222ms/step - loss: 0.6934 - accuracy: 0.4720 - val_loss: 0.6931 - val_accuracy: 0.5000\n",
            "Epoch 3/7\n",
            "500/500 [==============================] - 108s 215ms/step - loss: 0.6934 - accuracy: 0.4760 - val_loss: 0.6931 - val_accuracy: 0.5000\n",
            "Epoch 4/7\n",
            "500/500 [==============================] - 105s 210ms/step - loss: 0.6934 - accuracy: 0.4940 - val_loss: 0.6931 - val_accuracy: 0.5000\n",
            "Epoch 5/7\n",
            "500/500 [==============================] - 106s 211ms/step - loss: 0.6934 - accuracy: 0.4740 - val_loss: 0.6931 - val_accuracy: 0.5000\n",
            "Epoch 6/7\n",
            "500/500 [==============================] - 106s 211ms/step - loss: 0.6934 - accuracy: 0.4840 - val_loss: 0.6931 - val_accuracy: 0.5000\n",
            "Epoch 7/7\n",
            "500/500 [==============================] - 105s 210ms/step - loss: 0.6933 - accuracy: 0.4940 - val_loss: 0.6931 - val_accuracy: 0.5000\n"
          ]
        }
      ]
    },
    {
      "cell_type": "markdown",
      "source": [
        "# As I made this model for understanding perpose \"How CNN works?\" so. ignore accuracy as of now!!"
      ],
      "metadata": {
        "id": "iQBxR2K-vrcM"
      }
    },
    {
      "cell_type": "code",
      "source": [
        "import matplotlib.pyplot as plt\n",
        "plt.plot(history.history[\"accuracy\"],label=\"training\",color='red')\n",
        "plt.plot(history.history[\"val_accuracy\"],label=\"validation\",color=\"blue\")\n",
        "\n",
        "#plottinf graph: training accuracy v/s epochs and validation accuracy v/s epochs\n",
        "#helps in model evaluation"
      ],
      "metadata": {
        "colab": {
          "base_uri": "https://localhost:8080/",
          "height": 448
        },
        "id": "ZnV8WUhEwhy_",
        "outputId": "e2852694-a426-4dbd-c266-9f024c6a3273"
      },
      "execution_count": 16,
      "outputs": [
        {
          "output_type": "execute_result",
          "data": {
            "text/plain": [
              "[<matplotlib.lines.Line2D at 0x7f3d8c344d00>]"
            ]
          },
          "metadata": {},
          "execution_count": 16
        },
        {
          "output_type": "display_data",
          "data": {
            "text/plain": [
              "<Figure size 640x480 with 1 Axes>"
            ],
            "image/png": "[encoded data removed]"
          },
          "metadata": {}
        }
      ]
    },
    {
      "cell_type": "code",
      "source": [
        "plt.plot(history.history[\"loss\"],label=\"training\",color='red')\n",
        "plt.plot(history.history[\"val_loss\"],label=\"validation\",color='blue')\n",
        "\n",
        "#plottinf graph: training loss v/s epochs and validation loss v/s epochs\n",
        "#helps in model evaluation"
      ],
      "metadata": {
        "colab": {
          "base_uri": "https://localhost:8080/",
          "height": 448
        },
        "id": "SIEyB3t7y-bZ",
        "outputId": "024a2b33-5fb2-4d97-86da-cf83f1a0765f"
      },
      "execution_count": 18,
      "outputs": [
        {
          "output_type": "execute_result",
          "data": {
            "text/plain": [
              "[<matplotlib.lines.Line2D at 0x7f3d844b8220>]"
            ]
          },
          "metadata": {},
          "execution_count": 18
        },
        {
          "output_type": "display_data",
          "data": {
            "text/plain": [
              "<Figure size 640x480 with 1 Axes>"
            ],
            "image/png": "[encoded data removed]"
          },
          "metadata": {}
        }
      ]
    },
    {
      "cell_type": "markdown",
      "source": [
        "# again, don't focus on model performance as of now."
      ],
      "metadata": {
        "id": "NTg6wahl2OZy"
      }
    }
  ]
}