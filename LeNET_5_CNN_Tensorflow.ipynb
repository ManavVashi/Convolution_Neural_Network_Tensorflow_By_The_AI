{
  "cells": [
    {
      "cell_type": "markdown",
      "source": [
        "**below code is for importing dataset from kaggle to colab.**"
      ],
      "metadata": {
        "id": "v92oaNKqcSLQ"
      }
    },
    {
      "cell_type": "code",
      "execution_count": 12,
      "metadata": {
        "colab": {
          "base_uri": "https://localhost:8080/"
        },
        "id": "dHO0Vz9CHbJW",
        "outputId": "24f5a8e6-c2e9-4d6e-d00e-f66c82f130d4"
      },
      "outputs": [
        {
          "output_type": "stream",
          "name": "stdout",
          "text": [
            "cp: cannot stat 'kaggle.json': No such file or directory\n"
          ]
        }
      ],
      "source": [
        "!mkdir -p ~/.kaggle\n",
        "!cp kaggle.json ~/.kaggle/"
      ]
    },
    {
      "cell_type": "code",
      "execution_count": 13,
      "metadata": {
        "colab": {
          "base_uri": "https://localhost:8080/"
        },
        "id": "_7uGhwjQHcSa",
        "outputId": "b0ffc55e-ad03-4499-a7ea-a67b4747ed28"
      },
      "outputs": [
        {
          "output_type": "stream",
          "name": "stdout",
          "text": [
            "Dataset URL: https://www.kaggle.com/datasets/salader/dogs-vs-cats\n",
            "License(s): unknown\n",
            "dogs-vs-cats.zip: Skipping, found more recently modified local copy (use --force to force download)\n"
          ]
        }
      ],
      "source": [
        "!kaggle datasets download -d salader/dogs-vs-cats"
      ]
    },
    {
      "cell_type": "code",
      "execution_count": 14,
      "metadata": {
        "id": "8lH9LeQ2HkIi"
      },
      "outputs": [],
      "source": [
        "import zipfile\n",
        "zip_ref = zipfile.ZipFile('/content/dogs-vs-cats.zip', 'r')\n",
        "zip_ref.extractall('/content')\n",
        "zip_ref.close()"
      ]
    },
    {
      "cell_type": "markdown",
      "source": [
        "**above code is for importing dataset from kaggle to colab.**"
      ],
      "metadata": {
        "id": "CKRfyHhKcWX3"
      }
    },
    {
      "cell_type": "code",
      "execution_count": 15,
      "metadata": {
        "id": "zIoNMBn1Hmib"
      },
      "outputs": [],
      "source": [
        "import tensorflow\n",
        "from tensorflow import keras"
      ]
    },
    {
      "cell_type": "code",
      "execution_count": 16,
      "metadata": {
        "id": "k3_h18jPIkqP"
      },
      "outputs": [],
      "source": [
        "from keras.preprocessing.image import ImageDataGenerator\n",
        "train_valid_test_generator=ImageDataGenerator(rescale=1./255.0,\n",
        "                                         validation_split=0.2)\n",
        "\n",
        "#rescalling and validation split setting"
      ]
    },
    {
      "cell_type": "code",
      "execution_count": 17,
      "metadata": {
        "colab": {
          "base_uri": "https://localhost:8080/"
        },
        "id": "hpcIp2YJJIYv",
        "outputId": "854405a6-6997-43e7-f812-624eece766e1"
      },
      "outputs": [
        {
          "output_type": "stream",
          "name": "stdout",
          "text": [
            "Found 16000 images belonging to 2 classes.\n",
            "Found 4000 images belonging to 2 classes.\n",
            "Found 5000 images belonging to 2 classes.\n"
          ]
        }
      ],
      "source": [
        "train_data=train_valid_test_generator.flow_from_directory(directory='/content/train',\n",
        "                                                     class_mode='binary',\n",
        "                                                     color_mode='rgb',\n",
        "                                                     target_size=(256,256),\n",
        "                                                     batch_size=128,\n",
        "                                                     subset='training',\n",
        "                                                     shuffle=False)\n",
        "\n",
        "validation_data=train_valid_test_generator.flow_from_directory(directory='/content/train',\n",
        "                                                                class_mode='binary',\n",
        "                                                                color_mode='rgb',\n",
        "                                                                target_size=(256,256),\n",
        "                                                                batch_size=32,\n",
        "                                                                subset='validation',\n",
        "                                                                shuffle=False)\n",
        "\n",
        "test_data=train_valid_test_generator.flow_from_directory(directory='/content/test',\n",
        "                                                         class_mode='binary',\n",
        "                                                         color_mode='rgb',\n",
        "                                                         target_size=(256,256))\n",
        "\n",
        "#initiating hyperperameters"
      ]
    },
    {
      "cell_type": "code",
      "execution_count": 18,
      "metadata": {
        "id": "gv9ZdXYbVXv1"
      },
      "outputs": [],
      "source": [
        "from keras import Sequential\n",
        "from keras.layers import Conv2D,AveragePooling2D,Flatten,Dense\n",
        "\n",
        "#importing layers"
      ]
    },
    {
      "cell_type": "code",
      "execution_count": 19,
      "metadata": {
        "id": "nDwzn4AJVu-G"
      },
      "outputs": [],
      "source": [
        "model=Sequential()\n",
        "\n",
        "model.add(Conv2D(filters=6,kernel_size=5,strides=1,padding='valid',activation='tanh',input_shape=(256,256,3)))\n",
        "model.add(AveragePooling2D(pool_size=2,strides=2,padding='valid'))\n",
        "\n",
        "model.add(Conv2D(filters=16,kernel_size=5,strides=1,padding='valid',activation='tanh'))\n",
        "model.add(AveragePooling2D(pool_size=2,strides=2,padding='valid'))\n",
        "\n",
        "model.add(Flatten())\n",
        "\n",
        "model.add(Dense(units=120,activation='tanh'))\n",
        "model.add(Dense(units=84,activation='tanh'))\n",
        "model.add(Dense(units=1,activation='softmax'))\n",
        "\n",
        "#AlexNET model architecture"
      ]
    },
    {
      "cell_type": "code",
      "execution_count": 20,
      "metadata": {
        "colab": {
          "base_uri": "https://localhost:8080/"
        },
        "id": "ZZQjxTG1d5Kn",
        "outputId": "233e8ae6-8bec-400d-b11c-d8ef5a66d233"
      },
      "outputs": [
        {
          "output_type": "stream",
          "name": "stdout",
          "text": [
            "Model: \"sequential_1\"\n",
            "_________________________________________________________________\n",
            " Layer (type)                Output Shape              Param #   \n",
            "=================================================================\n",
            " conv2d_2 (Conv2D)           (None, 252, 252, 6)       456       \n",
            "                                                                 \n",
            " average_pooling2d_2 (Avera  (None, 126, 126, 6)       0         \n",
            " gePooling2D)                                                    \n",
            "                                                                 \n",
            " conv2d_3 (Conv2D)           (None, 122, 122, 16)      2416      \n",
            "                                                                 \n",
            " average_pooling2d_3 (Avera  (None, 61, 61, 16)        0         \n",
            " gePooling2D)                                                    \n",
            "                                                                 \n",
            " flatten_1 (Flatten)         (None, 59536)             0         \n",
            "                                                                 \n",
            " dense_3 (Dense)             (None, 120)               7144440   \n",
            "                                                                 \n",
            " dense_4 (Dense)             (None, 84)                10164     \n",
            "                                                                 \n",
            " dense_5 (Dense)             (None, 1)                 85        \n",
            "                                                                 \n",
            "=================================================================\n",
            "Total params: 7157561 (27.30 MB)\n",
            "Trainable params: 7157561 (27.30 MB)\n",
            "Non-trainable params: 0 (0.00 Byte)\n",
            "_________________________________________________________________\n"
          ]
        }
      ],
      "source": [
        "model.summary()\n",
        "\n",
        "#model training"
      ]
    },
    {
      "cell_type": "code",
      "execution_count": 21,
      "metadata": {
        "id": "WW-SflVVdlc8"
      },
      "outputs": [],
      "source": [
        "model.compile(optimizer='adam',loss='binary_crossentropy',metrics=['accuracy'])"
      ]
    },
    {
      "cell_type": "code",
      "execution_count": 22,
      "metadata": {
        "colab": {
          "base_uri": "https://localhost:8080/"
        },
        "id": "w-DZjTXhd_v3",
        "outputId": "3797d8c1-cc8a-4f6c-a194-ed1affbcedd2"
      },
      "outputs": [
        {
          "output_type": "stream",
          "name": "stdout",
          "text": [
            "Epoch 1/10\n",
            "125/125 [==============================] - 66s 493ms/step - loss: 0.8980 - accuracy: 0.5000 - val_loss: 0.7058 - val_accuracy: 0.5000\n",
            "Epoch 2/10\n",
            "125/125 [==============================] - 60s 481ms/step - loss: 0.7413 - accuracy: 0.5000 - val_loss: 0.8113 - val_accuracy: 0.5000\n",
            "Epoch 3/10\n",
            "125/125 [==============================] - 61s 486ms/step - loss: 0.7414 - accuracy: 0.5000 - val_loss: 0.6939 - val_accuracy: 0.5000\n",
            "Epoch 4/10\n",
            "125/125 [==============================] - 62s 495ms/step - loss: 0.7111 - accuracy: 0.5000 - val_loss: 0.6934 - val_accuracy: 0.5000\n",
            "Epoch 5/10\n",
            "125/125 [==============================] - 61s 486ms/step - loss: 0.7130 - accuracy: 0.5000 - val_loss: 0.7002 - val_accuracy: 0.5000\n",
            "Epoch 6/10\n",
            "125/125 [==============================] - 61s 485ms/step - loss: 0.6989 - accuracy: 0.5000 - val_loss: 0.7540 - val_accuracy: 0.5000\n",
            "Epoch 7/10\n",
            "125/125 [==============================] - 62s 496ms/step - loss: 0.7175 - accuracy: 0.5000 - val_loss: 0.6932 - val_accuracy: 0.5000\n",
            "Epoch 8/10\n",
            "125/125 [==============================] - 63s 506ms/step - loss: 0.7076 - accuracy: 0.5000 - val_loss: 0.7003 - val_accuracy: 0.5000\n",
            "Epoch 9/10\n",
            "125/125 [==============================] - 61s 484ms/step - loss: 0.7116 - accuracy: 0.5000 - val_loss: 0.6932 - val_accuracy: 0.5000\n",
            "Epoch 10/10\n",
            "125/125 [==============================] - 62s 495ms/step - loss: 0.6968 - accuracy: 0.5000 - val_loss: 0.7138 - val_accuracy: 0.5000\n"
          ]
        }
      ],
      "source": [
        "history=model.fit(train_data,validation_data=validation_data,epochs=10)\n",
        "\n",
        "#model training"
      ]
    },
    {
      "cell_type": "code",
      "source": [
        "import matplotlib.pyplot as plt\n",
        "plt.plot(history.history[\"accuracy\"],color='red')\n",
        "plt.plot(history.history[\"val_accuracy\"],color='green')\n",
        "\n",
        "\n",
        "#visulizing graph of training accuracy v/s epochs and validation accuracy v/s epochs"
      ],
      "metadata": {
        "colab": {
          "base_uri": "https://localhost:8080/",
          "height": 448
        },
        "id": "kHnkhYuhAQQJ",
        "outputId": "b001f4fd-faf0-42f7-812b-2d3138f34422"
      },
      "execution_count": 23,
      "outputs": [
        {
          "output_type": "execute_result",
          "data": {
            "text/plain": [
              "[<matplotlib.lines.Line2D at 0x789f4be03f10>]"
            ]
          },
          "metadata": {},
          "execution_count": 23
        },
        {
          "output_type": "display_data",
          "data": {
            "text/plain": [
              "<Figure size 640x480 with 1 Axes>"
            ],
            "image/png": "[encoded data removed]"
          },
          "metadata": {}
        }
      ]
    },
    {
      "cell_type": "code",
      "source": [
        "import matplotlib.pyplot as plt\n",
        "plt.plot(history.history[\"loss\"],color='red')\n",
        "plt.plot(history.history[\"val_loss\"],color='green')\n",
        "\n",
        "#visulizing graph between training loss v/s epochs and validation loss v/s epochs"
      ],
      "metadata": {
        "colab": {
          "base_uri": "https://localhost:8080/",
          "height": 448
        },
        "id": "R-n5zTQhAqQ8",
        "outputId": "05e8b62d-2b4a-4482-c354-8fd2f0098bef"
      },
      "execution_count": 24,
      "outputs": [
        {
          "output_type": "execute_result",
          "data": {
            "text/plain": [
              "[<matplotlib.lines.Line2D at 0x789f4bebed70>]"
            ]
          },
          "metadata": {},
          "execution_count": 24
        },
        {
          "output_type": "display_data",
          "data": {
            "text/plain": [
              "<Figure size 640x480 with 1 Axes>"
            ],
            "image/png": "[encoded data removed]"
          },
          "metadata": {}
        }
      ]
    },
    {
      "cell_type": "markdown",
      "source": [
        "# **For Theory,**\n",
        "* You can refer below blog. This blog is not written by me but it is such a nice and well maintained and well defined blog that capable to teach us how things are work?? I think if this type of content available for this topic then why I should remake it and waste my time. This is my thinking behind this.\n",
        "\n",
        "https://medium.com/@siddheshb008/lenet-5-architecture-explained-3b559cb2d52b"
      ],
      "metadata": {
        "id": "n03aHPHNc8JE"
      }
    }
  ],
  "metadata": {
    "accelerator": "GPU",
    "colab": {
      "gpuType": "T4",
      "provenance": []
    },
    "kernelspec": {
      "display_name": "Python 3",
      "name": "python3"
    },
    "language_info": {
      "name": "python"
    }
  },
  "nbformat": 4,
  "nbformat_minor": 0
}